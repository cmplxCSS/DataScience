{
  "nbformat": 4,
  "nbformat_minor": 0,
  "metadata": {
    "colab": {
      "name": "NLP Course - Week 3 Exercise Answer.ipynb",
      "version": "0.3.2",
      "provenance": []
    },
    "kernelspec": {
      "name": "python3",
      "display_name": "Python 3"
    },
    "accelerator": "GPU"
  },
  "cells": [
    {
      "cell_type": "code",
      "metadata": {
        "id": "hmA6EzkQJ5jt",
        "colab_type": "code",
        "colab": {}
      },
      "source": [
        "import json\n",
        "import tensorflow as tf\n",
        "import csv\n",
        "import random\n",
        "import numpy as np\n",
        "\n",
        "from tensorflow.keras.preprocessing.text import Tokenizer\n",
        "from tensorflow.keras.preprocessing.sequence import pad_sequences\n",
        "from tensorflow.keras.utils import to_categorical\n",
        "from tensorflow.keras import regularizers\n",
        "\n",
        "\n",
        "embedding_dim = 100\n",
        "max_length = 16\n",
        "trunc_type='post'\n",
        "padding_type='post'\n",
        "oov_tok = \"<OOV>\"\n",
        "training_size=160000\n",
        "test_portion=.1\n",
        "\n",
        "corpus = []\n"
      ],
      "execution_count": 0,
      "outputs": []
    },
    {
      "cell_type": "code",
      "metadata": {
        "id": "bM0l_dORKqE0",
        "colab_type": "code",
        "outputId": "23329fd8-4d73-4d44-85f6-d769f871b315",
        "colab": {
          "base_uri": "https://localhost:8080/",
          "height": 208
        }
      },
      "source": [
        "\n",
        "# Note that I cleaned the Stanford dataset to remove LATIN1 encoding to make it easier for Python CSV reader\n",
        "# You can do that yourself with:\n",
        "# iconv -f LATIN1 -t UTF8 training.1600000.processed.noemoticon.csv -o training_cleaned.csv\n",
        "# I then hosted it on my site to make it easier to use in this notebook\n",
        "\n",
        "!wget --no-check-certificate \\\n",
        "    https://storage.googleapis.com/laurencemoroney-blog.appspot.com/training_cleaned.csv \\\n",
        "    -O /tmp/training_cleaned.csv\n",
        "\n",
        "num_sentences = 0\n",
        "\n",
        "with open(\"/tmp/training_cleaned.csv\") as csvfile:\n",
        "    reader = csv.reader(csvfile, delimiter=',')\n",
        "    for row in reader:\n",
        "        list_item=[]\n",
        "        list_item.append(row[5])\n",
        "        this_label=row[0]\n",
        "        if this_label=='0':\n",
        "            list_item.append(0)\n",
        "        else:\n",
        "            list_item.append(1)\n",
        "        num_sentences = num_sentences + 1\n",
        "        corpus.append(list_item)\n",
        "\n",
        "\n"
      ],
      "execution_count": 3,
      "outputs": [
        {
          "output_type": "stream",
          "text": [
            "--2019-09-09 09:39:01--  https://storage.googleapis.com/laurencemoroney-blog.appspot.com/training_cleaned.csv\n",
            "Resolving storage.googleapis.com (storage.googleapis.com)... 74.125.203.128, 2404:6800:4008:c07::80\n",
            "Connecting to storage.googleapis.com (storage.googleapis.com)|74.125.203.128|:443... connected.\n",
            "HTTP request sent, awaiting response... 200 OK\n",
            "Length: 238942690 (228M) [application/octet-stream]\n",
            "Saving to: ‘/tmp/training_cleaned.csv’\n",
            "\n",
            "/tmp/training_clean 100%[===================>] 227.87M  64.5MB/s    in 3.5s    \n",
            "\n",
            "2019-09-09 09:39:05 (64.5 MB/s) - ‘/tmp/training_cleaned.csv’ saved [238942690/238942690]\n",
            "\n"
          ],
          "name": "stdout"
        }
      ]
    },
    {
      "cell_type": "code",
      "metadata": {
        "id": "3kxblBUjEUX-",
        "colab_type": "code",
        "outputId": "008a1be5-7fa0-43ef-8047-7acfea57c5e7",
        "colab": {
          "base_uri": "https://localhost:8080/",
          "height": 69
        }
      },
      "source": [
        "print(num_sentences)\n",
        "print(len(corpus))\n",
        "print(corpus[1])\n",
        "\n",
        "# Expected Output:\n",
        "# 1600000\n",
        "# 1600000\n",
        "# [\"is upset that he can't update his Facebook by texting it... and might cry as a result  School today also. Blah!\", 0]"
      ],
      "execution_count": 4,
      "outputs": [
        {
          "output_type": "stream",
          "text": [
            "1600000\n",
            "1600000\n",
            "[\"is upset that he can't update his Facebook by texting it... and might cry as a result  School today also. Blah!\", 0]\n"
          ],
          "name": "stdout"
        }
      ]
    },
    {
      "cell_type": "code",
      "metadata": {
        "id": "ohOGz24lsNAD",
        "colab_type": "code",
        "colab": {}
      },
      "source": [
        "sentences=[]\n",
        "labels=[]\n",
        "random.shuffle(corpus)\n",
        "for x in range(training_size):\n",
        "    sentences.append(corpus[x][0])\n",
        "    labels.append(corpus[x][1])\n",
        "\n",
        "\n",
        "tokenizer = Tokenizer()\n",
        "tokenizer.fit_on_texts(sentences)\n",
        "\n",
        "word_index = tokenizer.word_index\n",
        "vocab_size=len(word_index)\n",
        "\n",
        "sequences = tokenizer.texts_to_sequences(sentences)\n",
        "padded = pad_sequences(sequences, maxlen=max_length, padding=padding_type, truncating=trunc_type)\n",
        "\n",
        "split = int(test_portion * training_size)\n",
        "\n",
        "test_sequences = padded[0:split]\n",
        "training_sequences = padded[split:training_size]\n",
        "test_labels = labels[0:split]\n",
        "training_labels = labels[split:training_size]"
      ],
      "execution_count": 0,
      "outputs": []
    },
    {
      "cell_type": "code",
      "metadata": {
        "id": "gIrtRem1En3N",
        "colab_type": "code",
        "outputId": "7b8fb020-ae2c-423e-8678-422be0173943",
        "colab": {
          "base_uri": "https://localhost:8080/",
          "height": 52
        }
      },
      "source": [
        "print(vocab_size)\n",
        "print(word_index['i'])\n",
        "# Expected Output\n",
        "# 138858\n",
        "# 1"
      ],
      "execution_count": 6,
      "outputs": [
        {
          "output_type": "stream",
          "text": [
            "138173\n",
            "1\n"
          ],
          "name": "stdout"
        }
      ]
    },
    {
      "cell_type": "code",
      "metadata": {
        "id": "C1zdgJkusRh0",
        "colab_type": "code",
        "outputId": "1d8a4526-9d90-4164-814d-de88bc28b3a9",
        "colab": {
          "base_uri": "https://localhost:8080/",
          "height": 208
        }
      },
      "source": [
        "# Note this is the 100 dimension version of GloVe from Stanford\n",
        "# I unzipped and hosted it on my site to make this notebook easier\n",
        "!wget --no-check-certificate \\\n",
        "    https://storage.googleapis.com/laurencemoroney-blog.appspot.com/glove.6B.100d.txt \\\n",
        "    -O /tmp/glove.6B.100d.txt\n",
        "embeddings_index = {};\n",
        "with open('/tmp/glove.6B.100d.txt') as f:\n",
        "    for line in f:\n",
        "        values = line.split();\n",
        "        word = values[0];\n",
        "        coefs = np.asarray(values[1:], dtype='float32');\n",
        "        embeddings_index[word] = coefs;\n",
        "\n",
        "embeddings_matrix = np.zeros((vocab_size+1, embedding_dim));\n",
        "for word, i in word_index.items():\n",
        "    embedding_vector = embeddings_index.get(word);\n",
        "    if embedding_vector is not None:\n",
        "        embeddings_matrix[i] = embedding_vector;"
      ],
      "execution_count": 7,
      "outputs": [
        {
          "output_type": "stream",
          "text": [
            "--2019-09-09 09:39:44--  https://storage.googleapis.com/laurencemoroney-blog.appspot.com/glove.6B.100d.txt\n",
            "Resolving storage.googleapis.com (storage.googleapis.com)... 74.125.203.128, 2404:6800:4008:c04::80\n",
            "Connecting to storage.googleapis.com (storage.googleapis.com)|74.125.203.128|:443... connected.\n",
            "HTTP request sent, awaiting response... 200 OK\n",
            "Length: 347116733 (331M) [text/plain]\n",
            "Saving to: ‘/tmp/glove.6B.100d.txt’\n",
            "\n",
            "/tmp/glove.6B.100d. 100%[===================>] 331.04M  98.2MB/s    in 3.4s    \n",
            "\n",
            "2019-09-09 09:39:48 (98.2 MB/s) - ‘/tmp/glove.6B.100d.txt’ saved [347116733/347116733]\n",
            "\n"
          ],
          "name": "stdout"
        }
      ]
    },
    {
      "cell_type": "code",
      "metadata": {
        "id": "71NLk_lpFLNt",
        "colab_type": "code",
        "outputId": "cef62779-1cff-405d-c661-250f2f64dc1c",
        "colab": {
          "base_uri": "https://localhost:8080/",
          "height": 34
        }
      },
      "source": [
        "print(len(embeddings_matrix))\n",
        "# Expected Output\n",
        "# 138859"
      ],
      "execution_count": 8,
      "outputs": [
        {
          "output_type": "stream",
          "text": [
            "138174\n"
          ],
          "name": "stdout"
        }
      ]
    },
    {
      "cell_type": "code",
      "metadata": {
        "colab_type": "code",
        "id": "iKKvbuEBOGFz",
        "colab": {
          "base_uri": "https://localhost:8080/",
          "height": 1000
        },
        "outputId": "f803ca9a-17c6-4368-d924-ddc44e480960"
      },
      "source": [
        "model = tf.keras.Sequential([\n",
        "    tf.keras.layers.Embedding(vocab_size+1, embedding_dim, input_length=max_length, weights=[embeddings_matrix], trainable=False),\n",
        "    tf.keras.layers.Dropout(0.2),\n",
        "    tf.keras.layers.Conv1D(64, 5, activation='relu'),\n",
        "    tf.keras.layers.MaxPooling1D(pool_size=4),\n",
        "    tf.keras.layers.LSTM(64),\n",
        "    tf.keras.layers.Dense(1, activation='sigmoid')\n",
        "])\n",
        "model.compile(loss='binary_crossentropy',optimizer='adam',metrics=['accuracy'])\n",
        "model.summary()\n",
        "\n",
        "num_epochs = 50\n",
        "history = model.fit(training_sequences, training_labels, epochs=num_epochs, validation_data=(test_sequences, test_labels), verbose=2)\n",
        "\n",
        "print(\"Training Complete\")\n"
      ],
      "execution_count": 9,
      "outputs": [
        {
          "output_type": "stream",
          "text": [
            "WARNING:tensorflow:From /usr/local/lib/python3.6/dist-packages/tensorflow/python/keras/initializers.py:119: calling RandomUniform.__init__ (from tensorflow.python.ops.init_ops) with dtype is deprecated and will be removed in a future version.\n",
            "Instructions for updating:\n",
            "Call initializer instance with the dtype argument instead of passing it to the constructor\n",
            "WARNING:tensorflow:From /usr/local/lib/python3.6/dist-packages/tensorflow/python/ops/init_ops.py:1251: calling VarianceScaling.__init__ (from tensorflow.python.ops.init_ops) with dtype is deprecated and will be removed in a future version.\n",
            "Instructions for updating:\n",
            "Call initializer instance with the dtype argument instead of passing it to the constructor\n",
            "WARNING:tensorflow:From /usr/local/lib/python3.6/dist-packages/tensorflow/python/ops/nn_impl.py:180: add_dispatch_support.<locals>.wrapper (from tensorflow.python.ops.array_ops) is deprecated and will be removed in a future version.\n",
            "Instructions for updating:\n",
            "Use tf.where in 2.0, which has the same broadcast rule as np.where\n",
            "Model: \"sequential\"\n",
            "_________________________________________________________________\n",
            "Layer (type)                 Output Shape              Param #   \n",
            "=================================================================\n",
            "embedding (Embedding)        (None, 16, 100)           13817400  \n",
            "_________________________________________________________________\n",
            "dropout (Dropout)            (None, 16, 100)           0         \n",
            "_________________________________________________________________\n",
            "conv1d (Conv1D)              (None, 12, 64)            32064     \n",
            "_________________________________________________________________\n",
            "max_pooling1d (MaxPooling1D) (None, 3, 64)             0         \n",
            "_________________________________________________________________\n",
            "lstm (LSTM)                  (None, 64)                33024     \n",
            "_________________________________________________________________\n",
            "dense (Dense)                (None, 1)                 65        \n",
            "=================================================================\n",
            "Total params: 13,882,553\n",
            "Trainable params: 65,153\n",
            "Non-trainable params: 13,817,400\n",
            "_________________________________________________________________\n",
            "Train on 144000 samples, validate on 16000 samples\n",
            "Epoch 1/50\n",
            "144000/144000 - 56s - loss: 0.5675 - acc: 0.6999 - val_loss: 0.5322 - val_acc: 0.7270\n",
            "Epoch 2/50\n",
            "144000/144000 - 55s - loss: 0.5246 - acc: 0.7347 - val_loss: 0.5143 - val_acc: 0.7441\n",
            "Epoch 3/50\n",
            "144000/144000 - 54s - loss: 0.5079 - acc: 0.7454 - val_loss: 0.5140 - val_acc: 0.7453\n",
            "Epoch 4/50\n",
            "144000/144000 - 53s - loss: 0.4960 - acc: 0.7540 - val_loss: 0.5074 - val_acc: 0.7481\n",
            "Epoch 5/50\n",
            "144000/144000 - 54s - loss: 0.4873 - acc: 0.7597 - val_loss: 0.5029 - val_acc: 0.7526\n",
            "Epoch 6/50\n",
            "144000/144000 - 54s - loss: 0.4814 - acc: 0.7637 - val_loss: 0.5079 - val_acc: 0.7516\n",
            "Epoch 7/50\n",
            "144000/144000 - 54s - loss: 0.4753 - acc: 0.7690 - val_loss: 0.5043 - val_acc: 0.7508\n",
            "Epoch 8/50\n",
            "144000/144000 - 54s - loss: 0.4702 - acc: 0.7707 - val_loss: 0.5168 - val_acc: 0.7449\n",
            "Epoch 9/50\n",
            "144000/144000 - 55s - loss: 0.4667 - acc: 0.7724 - val_loss: 0.5034 - val_acc: 0.7529\n",
            "Epoch 10/50\n",
            "144000/144000 - 54s - loss: 0.4628 - acc: 0.7758 - val_loss: 0.5053 - val_acc: 0.7521\n",
            "Epoch 11/50\n",
            "144000/144000 - 53s - loss: 0.4596 - acc: 0.7764 - val_loss: 0.5095 - val_acc: 0.7504\n",
            "Epoch 12/50\n",
            "144000/144000 - 54s - loss: 0.4564 - acc: 0.7796 - val_loss: 0.5120 - val_acc: 0.7514\n",
            "Epoch 13/50\n",
            "144000/144000 - 55s - loss: 0.4537 - acc: 0.7806 - val_loss: 0.5143 - val_acc: 0.7539\n",
            "Epoch 14/50\n",
            "144000/144000 - 56s - loss: 0.4507 - acc: 0.7829 - val_loss: 0.5132 - val_acc: 0.7492\n",
            "Epoch 15/50\n",
            "144000/144000 - 54s - loss: 0.4484 - acc: 0.7836 - val_loss: 0.5100 - val_acc: 0.7524\n",
            "Epoch 16/50\n",
            "144000/144000 - 55s - loss: 0.4481 - acc: 0.7841 - val_loss: 0.5137 - val_acc: 0.7487\n",
            "Epoch 17/50\n",
            "144000/144000 - 55s - loss: 0.4454 - acc: 0.7849 - val_loss: 0.5113 - val_acc: 0.7500\n",
            "Epoch 18/50\n",
            "144000/144000 - 56s - loss: 0.4430 - acc: 0.7874 - val_loss: 0.5138 - val_acc: 0.7484\n",
            "Epoch 19/50\n",
            "144000/144000 - 55s - loss: 0.4437 - acc: 0.7858 - val_loss: 0.5135 - val_acc: 0.7506\n",
            "Epoch 20/50\n",
            "144000/144000 - 55s - loss: 0.4426 - acc: 0.7871 - val_loss: 0.5127 - val_acc: 0.7504\n",
            "Epoch 21/50\n",
            "144000/144000 - 53s - loss: 0.4406 - acc: 0.7892 - val_loss: 0.5100 - val_acc: 0.7527\n",
            "Epoch 22/50\n",
            "144000/144000 - 54s - loss: 0.4390 - acc: 0.7900 - val_loss: 0.5186 - val_acc: 0.7509\n",
            "Epoch 23/50\n",
            "144000/144000 - 54s - loss: 0.4371 - acc: 0.7913 - val_loss: 0.5157 - val_acc: 0.7487\n",
            "Epoch 24/50\n",
            "144000/144000 - 54s - loss: 0.4383 - acc: 0.7904 - val_loss: 0.5159 - val_acc: 0.7499\n",
            "Epoch 25/50\n",
            "144000/144000 - 54s - loss: 0.4365 - acc: 0.7909 - val_loss: 0.5200 - val_acc: 0.7494\n",
            "Epoch 26/50\n",
            "144000/144000 - 53s - loss: 0.4351 - acc: 0.7918 - val_loss: 0.5200 - val_acc: 0.7526\n",
            "Epoch 27/50\n",
            "144000/144000 - 54s - loss: 0.4341 - acc: 0.7927 - val_loss: 0.5199 - val_acc: 0.7479\n",
            "Epoch 28/50\n",
            "144000/144000 - 53s - loss: 0.4344 - acc: 0.7931 - val_loss: 0.5194 - val_acc: 0.7479\n",
            "Epoch 29/50\n",
            "144000/144000 - 54s - loss: 0.4338 - acc: 0.7935 - val_loss: 0.5166 - val_acc: 0.7471\n",
            "Epoch 30/50\n",
            "144000/144000 - 54s - loss: 0.4325 - acc: 0.7930 - val_loss: 0.5219 - val_acc: 0.7462\n",
            "Epoch 31/50\n",
            "144000/144000 - 54s - loss: 0.4323 - acc: 0.7939 - val_loss: 0.5193 - val_acc: 0.7508\n",
            "Epoch 32/50\n",
            "144000/144000 - 55s - loss: 0.4322 - acc: 0.7935 - val_loss: 0.5208 - val_acc: 0.7492\n",
            "Epoch 33/50\n",
            "144000/144000 - 53s - loss: 0.4317 - acc: 0.7931 - val_loss: 0.5239 - val_acc: 0.7496\n",
            "Epoch 34/50\n",
            "144000/144000 - 55s - loss: 0.4304 - acc: 0.7951 - val_loss: 0.5218 - val_acc: 0.7494\n",
            "Epoch 35/50\n",
            "144000/144000 - 54s - loss: 0.4302 - acc: 0.7945 - val_loss: 0.5211 - val_acc: 0.7462\n",
            "Epoch 36/50\n",
            "144000/144000 - 55s - loss: 0.4292 - acc: 0.7966 - val_loss: 0.5249 - val_acc: 0.7461\n",
            "Epoch 37/50\n",
            "144000/144000 - 54s - loss: 0.4294 - acc: 0.7947 - val_loss: 0.5224 - val_acc: 0.7433\n",
            "Epoch 38/50\n",
            "144000/144000 - 55s - loss: 0.4290 - acc: 0.7953 - val_loss: 0.5206 - val_acc: 0.7452\n",
            "Epoch 39/50\n",
            "144000/144000 - 53s - loss: 0.4301 - acc: 0.7958 - val_loss: 0.5201 - val_acc: 0.7472\n",
            "Epoch 40/50\n",
            "144000/144000 - 54s - loss: 0.4282 - acc: 0.7967 - val_loss: 0.5216 - val_acc: 0.7476\n",
            "Epoch 41/50\n",
            "144000/144000 - 52s - loss: 0.4283 - acc: 0.7963 - val_loss: 0.5223 - val_acc: 0.7452\n",
            "Epoch 42/50\n",
            "144000/144000 - 54s - loss: 0.4283 - acc: 0.7970 - val_loss: 0.5272 - val_acc: 0.7449\n",
            "Epoch 43/50\n",
            "144000/144000 - 54s - loss: 0.4259 - acc: 0.7972 - val_loss: 0.5331 - val_acc: 0.7401\n",
            "Epoch 44/50\n",
            "144000/144000 - 52s - loss: 0.4271 - acc: 0.7970 - val_loss: 0.5262 - val_acc: 0.7448\n",
            "Epoch 45/50\n",
            "144000/144000 - 52s - loss: 0.4261 - acc: 0.7974 - val_loss: 0.5290 - val_acc: 0.7454\n",
            "Epoch 46/50\n",
            "144000/144000 - 53s - loss: 0.4260 - acc: 0.7976 - val_loss: 0.5266 - val_acc: 0.7451\n",
            "Epoch 47/50\n",
            "144000/144000 - 53s - loss: 0.4267 - acc: 0.7980 - val_loss: 0.5250 - val_acc: 0.7446\n",
            "Epoch 48/50\n",
            "144000/144000 - 53s - loss: 0.4263 - acc: 0.7978 - val_loss: 0.5225 - val_acc: 0.7471\n",
            "Epoch 49/50\n",
            "144000/144000 - 53s - loss: 0.4270 - acc: 0.7962 - val_loss: 0.5276 - val_acc: 0.7450\n",
            "Epoch 50/50\n",
            "144000/144000 - 52s - loss: 0.4260 - acc: 0.7982 - val_loss: 0.5239 - val_acc: 0.7455\n",
            "Training Complete\n"
          ],
          "name": "stdout"
        }
      ]
    },
    {
      "cell_type": "code",
      "metadata": {
        "id": "qxju4ItJKO8F",
        "colab_type": "code",
        "colab": {
          "base_uri": "https://localhost:8080/",
          "height": 608
        },
        "outputId": "6345fe09-8b7a-4efa-d8bc-f327d0e00c0a"
      },
      "source": [
        "import matplotlib.image  as mpimg\n",
        "import matplotlib.pyplot as plt\n",
        "\n",
        "#-----------------------------------------------------------\n",
        "# Retrieve a list of list results on training and test data\n",
        "# sets for each training epoch\n",
        "#-----------------------------------------------------------\n",
        "acc=history.history['acc']\n",
        "val_acc=history.history['val_acc']\n",
        "loss=history.history['loss']\n",
        "val_loss=history.history['val_loss']\n",
        "\n",
        "epochs=range(len(acc)) # Get number of epochs\n",
        "\n",
        "#------------------------------------------------\n",
        "# Plot training and validation accuracy per epoch\n",
        "#------------------------------------------------\n",
        "plt.plot(epochs, acc, 'r')\n",
        "plt.plot(epochs, val_acc, 'b')\n",
        "plt.title('Training and validation accuracy')\n",
        "plt.xlabel(\"Epochs\")\n",
        "plt.ylabel(\"Accuracy\")\n",
        "plt.legend([\"Accuracy\", \"Validation Accuracy\"])\n",
        "\n",
        "plt.figure()\n",
        "\n",
        "#------------------------------------------------\n",
        "# Plot training and validation loss per epoch\n",
        "#------------------------------------------------\n",
        "plt.plot(epochs, loss, 'r')\n",
        "plt.plot(epochs, val_loss, 'b')\n",
        "plt.title('Training and validation loss')\n",
        "plt.xlabel(\"Epochs\")\n",
        "plt.ylabel(\"Loss\")\n",
        "plt.legend([\"Loss\", \"Validation Loss\"])\n",
        "\n",
        "plt.figure()\n",
        "\n",
        "\n",
        "# Expected Output\n",
        "# A chart where the validation loss does not increase sharply!"
      ],
      "execution_count": 10,
      "outputs": [
        {
          "output_type": "execute_result",
          "data": {
            "text/plain": [
              "<Figure size 432x288 with 0 Axes>"
            ]
          },
          "metadata": {
            "tags": []
          },
          "execution_count": 10
        },
        {
          "output_type": "display_data",
          "data": {
            "image/png": "[encoded data removed]",
            "text/plain": [
              "<Figure size 432x288 with 1 Axes>"
            ]
          },
          "metadata": {
            "tags": []
          }
        },
        {
          "output_type": "display_data",
          "data": {
            "image/png": "[encoded data removed]",
            "text/plain": [
              "<Figure size 432x288 with 1 Axes>"
            ]
          },
          "metadata": {
            "tags": []
          }
        },
        {
          "output_type": "display_data",
          "data": {
            "text/plain": [
              "<Figure size 432x288 with 0 Axes>"
            ]
          },
          "metadata": {
            "tags": []
          }
        }
      ]
    }
  ]
}